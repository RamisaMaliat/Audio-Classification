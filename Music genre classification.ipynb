{
 "cells": [
  {
   "cell_type": "code",
   "execution_count": 8,
   "id": "a6d3b252",
   "metadata": {},
   "outputs": [],
   "source": [
    "from python_speech_features import mfcc\n",
    "import scipy.io.wavfile as wav\n",
    "import numpy as np\n",
    "from tempfile import TemporaryFile\n",
    "import os\n",
    "import pickle\n",
    "import random \n",
    "import operator\n",
    "import math\n",
    "import numpy as np\n",
    "import librosa\n",
    "import pandas as pd"
   ]
  },
  {
   "cell_type": "code",
   "execution_count": null,
   "id": "85ac5a6e",
   "metadata": {
    "collapsed": true
   },
   "outputs": [],
   "source": []
  },
  {
   "cell_type": "code",
   "execution_count": 9,
   "id": "7fcafce2",
   "metadata": {},
   "outputs": [],
   "source": [
    "directory = \"D:\\Machine Learning\\Music Genre Classifier\\\\genres\\\\\"\n",
    "dataset = []\n",
    "i=0\n",
    "for folder in os.listdir(directory):\n",
    "    i+=1\n",
    "    if i==11 :\n",
    "        break   \n",
    "    for file in os.listdir(directory+folder):  \n",
    "        (audio,rate) = librosa.load(directory+folder+\"/\"+file)\n",
    "        mfcc_feat = librosa.feature.mfcc(y=audio,sr= rate, n_mfcc=40)\n",
    "        mean_matrix = np.mean(mfcc_feat.T, axis=0)\n",
    "        dataset.append([mean_matrix,i])\n",
    "        "
   ]
  },
  {
   "cell_type": "code",
   "execution_count": 11,
   "id": "356c2a91",
   "metadata": {},
   "outputs": [
    {
     "data": {
      "text/html": [
       "<div>\n",
       "<style scoped>\n",
       "    .dataframe tbody tr th:only-of-type {\n",
       "        vertical-align: middle;\n",
       "    }\n",
       "\n",
       "    .dataframe tbody tr th {\n",
       "        vertical-align: top;\n",
       "    }\n",
       "\n",
       "    .dataframe thead th {\n",
       "        text-align: right;\n",
       "    }\n",
       "</style>\n",
       "<table border=\"1\" class=\"dataframe\">\n",
       "  <thead>\n",
       "    <tr style=\"text-align: right;\">\n",
       "      <th></th>\n",
       "      <th>features</th>\n",
       "      <th>class</th>\n",
       "    </tr>\n",
       "  </thead>\n",
       "  <tbody>\n",
       "    <tr>\n",
       "      <th>0</th>\n",
       "      <td>[-113.57065, 121.57179, -19.168142, 42.36642, ...</td>\n",
       "      <td>1</td>\n",
       "    </tr>\n",
       "    <tr>\n",
       "      <th>1</th>\n",
       "      <td>[-207.5017, 123.991264, 8.955127, 35.877647, 2...</td>\n",
       "      <td>1</td>\n",
       "    </tr>\n",
       "    <tr>\n",
       "      <th>2</th>\n",
       "      <td>[-90.722595, 140.4463, -29.09389, 31.684334, -...</td>\n",
       "      <td>1</td>\n",
       "    </tr>\n",
       "    <tr>\n",
       "      <th>3</th>\n",
       "      <td>[-199.5442, 150.0909, 5.6626782, 26.85908, 1.7...</td>\n",
       "      <td>1</td>\n",
       "    </tr>\n",
       "    <tr>\n",
       "      <th>4</th>\n",
       "      <td>[-160.3377, 126.219635, -35.58781, 22.148071, ...</td>\n",
       "      <td>1</td>\n",
       "    </tr>\n",
       "    <tr>\n",
       "      <th>...</th>\n",
       "      <td>...</td>\n",
       "      <td>...</td>\n",
       "    </tr>\n",
       "    <tr>\n",
       "      <th>995</th>\n",
       "      <td>[-153.64096, 109.86465, -23.065697, 59.050125,...</td>\n",
       "      <td>10</td>\n",
       "    </tr>\n",
       "    <tr>\n",
       "      <th>996</th>\n",
       "      <td>[-142.39203, 116.18963, -32.147167, 49.11784, ...</td>\n",
       "      <td>10</td>\n",
       "    </tr>\n",
       "    <tr>\n",
       "      <th>997</th>\n",
       "      <td>[-124.95227, 115.177155, -47.97515, 52.814674,...</td>\n",
       "      <td>10</td>\n",
       "    </tr>\n",
       "    <tr>\n",
       "      <th>998</th>\n",
       "      <td>[-225.00775, 123.64677, -9.7241745, 56.605164,...</td>\n",
       "      <td>10</td>\n",
       "    </tr>\n",
       "    <tr>\n",
       "      <th>999</th>\n",
       "      <td>[-235.16197, 123.870094, -22.538395, 52.939743...</td>\n",
       "      <td>10</td>\n",
       "    </tr>\n",
       "  </tbody>\n",
       "</table>\n",
       "<p>1000 rows × 2 columns</p>\n",
       "</div>"
      ],
      "text/plain": [
       "                                              features  class\n",
       "0    [-113.57065, 121.57179, -19.168142, 42.36642, ...      1\n",
       "1    [-207.5017, 123.991264, 8.955127, 35.877647, 2...      1\n",
       "2    [-90.722595, 140.4463, -29.09389, 31.684334, -...      1\n",
       "3    [-199.5442, 150.0909, 5.6626782, 26.85908, 1.7...      1\n",
       "4    [-160.3377, 126.219635, -35.58781, 22.148071, ...      1\n",
       "..                                                 ...    ...\n",
       "995  [-153.64096, 109.86465, -23.065697, 59.050125,...     10\n",
       "996  [-142.39203, 116.18963, -32.147167, 49.11784, ...     10\n",
       "997  [-124.95227, 115.177155, -47.97515, 52.814674,...     10\n",
       "998  [-225.00775, 123.64677, -9.7241745, 56.605164,...     10\n",
       "999  [-235.16197, 123.870094, -22.538395, 52.939743...     10\n",
       "\n",
       "[1000 rows x 2 columns]"
      ]
     },
     "execution_count": 11,
     "metadata": {},
     "output_type": "execute_result"
    }
   ],
   "source": [
    "features_df= pd.DataFrame(dataset, columns=['features', 'class'])\n",
    "features_df"
   ]
  },
  {
   "cell_type": "code",
   "execution_count": 22,
   "id": "3a1a9dba",
   "metadata": {},
   "outputs": [
    {
     "data": {
      "text/html": [
       "<div>\n",
       "<style scoped>\n",
       "    .dataframe tbody tr th:only-of-type {\n",
       "        vertical-align: middle;\n",
       "    }\n",
       "\n",
       "    .dataframe tbody tr th {\n",
       "        vertical-align: top;\n",
       "    }\n",
       "\n",
       "    .dataframe thead th {\n",
       "        text-align: right;\n",
       "    }\n",
       "</style>\n",
       "<table border=\"1\" class=\"dataframe\">\n",
       "  <thead>\n",
       "    <tr style=\"text-align: right;\">\n",
       "      <th></th>\n",
       "      <th>features</th>\n",
       "      <th>class</th>\n",
       "    </tr>\n",
       "  </thead>\n",
       "  <tbody>\n",
       "    <tr>\n",
       "      <th>0</th>\n",
       "      <td>[-76.7762, 98.37953, -5.0335135, 49.34434, -10...</td>\n",
       "      <td>5</td>\n",
       "    </tr>\n",
       "    <tr>\n",
       "      <th>1</th>\n",
       "      <td>[-182.20235, 83.476616, 4.8968363, 12.707844, ...</td>\n",
       "      <td>9</td>\n",
       "    </tr>\n",
       "    <tr>\n",
       "      <th>2</th>\n",
       "      <td>[-169.1751, 110.45037, -8.545039, 43.8886, 0.3...</td>\n",
       "      <td>9</td>\n",
       "    </tr>\n",
       "    <tr>\n",
       "      <th>3</th>\n",
       "      <td>[-248.96225, 139.03177, -16.240025, 57.11619, ...</td>\n",
       "      <td>1</td>\n",
       "    </tr>\n",
       "    <tr>\n",
       "      <th>4</th>\n",
       "      <td>[-222.9824, 102.862144, -1.6518362, 45.21669, ...</td>\n",
       "      <td>6</td>\n",
       "    </tr>\n",
       "  </tbody>\n",
       "</table>\n",
       "</div>"
      ],
      "text/plain": [
       "                                            features  class\n",
       "0  [-76.7762, 98.37953, -5.0335135, 49.34434, -10...      5\n",
       "1  [-182.20235, 83.476616, 4.8968363, 12.707844, ...      9\n",
       "2  [-169.1751, 110.45037, -8.545039, 43.8886, 0.3...      9\n",
       "3  [-248.96225, 139.03177, -16.240025, 57.11619, ...      1\n",
       "4  [-222.9824, 102.862144, -1.6518362, 45.21669, ...      6"
      ]
     },
     "execution_count": 22,
     "metadata": {},
     "output_type": "execute_result"
    }
   ],
   "source": [
    "df = features_df.sample(frac=1).reset_index(drop=True)\n",
    "df.head()"
   ]
  },
  {
   "cell_type": "code",
   "execution_count": 17,
   "id": "1c38963c",
   "metadata": {},
   "outputs": [],
   "source": [
    "X= np.array(df['features'].tolist())\n",
    "y= np.array(df['class'].tolist())"
   ]
  },
  {
   "cell_type": "code",
   "execution_count": 55,
   "id": "eb09a9c0",
   "metadata": {},
   "outputs": [
    {
     "data": {
      "text/plain": [
       "(1000, 10)"
      ]
     },
     "execution_count": 55,
     "metadata": {},
     "output_type": "execute_result"
    }
   ],
   "source": [
    "y= np.array(pd.get_dummies(y))\n",
    "y.shape"
   ]
  },
  {
   "cell_type": "code",
   "execution_count": 56,
   "id": "ce11b072",
   "metadata": {},
   "outputs": [],
   "source": [
    "\n",
    "from sklearn.model_selection import train_test_split\n",
    "X_train, X_test, y_train, y_test = train_test_split( X, y, test_size=0.2 , random_state=0)\n"
   ]
  },
  {
   "cell_type": "code",
   "execution_count": 57,
   "id": "66f92036",
   "metadata": {},
   "outputs": [],
   "source": [
    "import tensorflow as tf\n",
    "from tensorflow.keras.models import Sequential\n",
    "from tensorflow.keras.layers import Dense, Dropout, Activation, Flatten\n",
    "from tensorflow.keras.optimizers import Adam\n",
    "from sklearn import metrics"
   ]
  },
  {
   "cell_type": "code",
   "execution_count": 59,
   "id": "8dd61fcf",
   "metadata": {},
   "outputs": [
    {
     "data": {
      "text/plain": [
       "10"
      ]
     },
     "execution_count": 59,
     "metadata": {},
     "output_type": "execute_result"
    }
   ],
   "source": [
    "num_label=y.shape[1]\n",
    "num_label"
   ]
  },
  {
   "cell_type": "code",
   "execution_count": 60,
   "id": "1bc7b4a4",
   "metadata": {},
   "outputs": [],
   "source": [
    "model= Sequential()\n",
    "\n",
    "model.add(Dense(100, input_shape=(40,)))\n",
    "model.add(Activation('relu'))\n",
    "model.add(Dropout(0.5))\n",
    "\n",
    "\n",
    "model.add(Dense(200))\n",
    "model.add(Activation('relu'))\n",
    "model.add(Dropout(0.5))\n",
    "\n",
    "model.add(Dense(100))\n",
    "model.add(Activation('relu'))\n",
    "model.add(Dropout(0.5))\n",
    "\n",
    "\n",
    "model.add(Dense(10))\n",
    "model.add(Activation('softmax'))\n"
   ]
  },
  {
   "cell_type": "code",
   "execution_count": 61,
   "id": "08a0d58e",
   "metadata": {},
   "outputs": [
    {
     "name": "stdout",
     "output_type": "stream",
     "text": [
      "Model: \"sequential_3\"\n",
      "_________________________________________________________________\n",
      "Layer (type)                 Output Shape              Param #   \n",
      "=================================================================\n",
      "dense_11 (Dense)             (None, 100)               4100      \n",
      "_________________________________________________________________\n",
      "activation_11 (Activation)   (None, 100)               0         \n",
      "_________________________________________________________________\n",
      "dropout_8 (Dropout)          (None, 100)               0         \n",
      "_________________________________________________________________\n",
      "dense_12 (Dense)             (None, 200)               20200     \n",
      "_________________________________________________________________\n",
      "activation_12 (Activation)   (None, 200)               0         \n",
      "_________________________________________________________________\n",
      "dropout_9 (Dropout)          (None, 200)               0         \n",
      "_________________________________________________________________\n",
      "dense_13 (Dense)             (None, 100)               20100     \n",
      "_________________________________________________________________\n",
      "activation_13 (Activation)   (None, 100)               0         \n",
      "_________________________________________________________________\n",
      "dropout_10 (Dropout)         (None, 100)               0         \n",
      "_________________________________________________________________\n",
      "dense_14 (Dense)             (None, 10)                1010      \n",
      "_________________________________________________________________\n",
      "activation_14 (Activation)   (None, 10)                0         \n",
      "=================================================================\n",
      "Total params: 45,410\n",
      "Trainable params: 45,410\n",
      "Non-trainable params: 0\n",
      "_________________________________________________________________\n"
     ]
    }
   ],
   "source": [
    "model.summary()"
   ]
  },
  {
   "cell_type": "code",
   "execution_count": 62,
   "id": "9fdf3b95",
   "metadata": {},
   "outputs": [],
   "source": [
    "model.compile(loss='categorical_crossentropy', metrics=['accuracy'],optimizer='adam')"
   ]
  },
  {
   "cell_type": "code",
   "execution_count": 63,
   "id": "c53b714b",
   "metadata": {},
   "outputs": [
    {
     "data": {
      "text/plain": [
       "(800, 40)"
      ]
     },
     "execution_count": 63,
     "metadata": {},
     "output_type": "execute_result"
    }
   ],
   "source": [
    "X_train.shape"
   ]
  },
  {
   "cell_type": "code",
   "execution_count": 68,
   "id": "39bc1b09",
   "metadata": {},
   "outputs": [
    {
     "name": "stdout",
     "output_type": "stream",
     "text": [
      "Epoch 1/100\n",
      "25/25 [==============================] - 0s 6ms/step - loss: 0.9752 - accuracy: 0.6488 - val_loss: 1.4485 - val_accuracy: 0.5950\n",
      "Epoch 2/100\n",
      "25/25 [==============================] - 0s 4ms/step - loss: 0.9621 - accuracy: 0.6650 - val_loss: 1.4568 - val_accuracy: 0.6050\n",
      "Epoch 3/100\n",
      "25/25 [==============================] - 0s 4ms/step - loss: 0.9649 - accuracy: 0.6725 - val_loss: 1.4975 - val_accuracy: 0.5950\n",
      "Epoch 4/100\n",
      "25/25 [==============================] - 0s 5ms/step - loss: 0.9309 - accuracy: 0.6750 - val_loss: 1.5432 - val_accuracy: 0.6000\n",
      "Epoch 5/100\n",
      "25/25 [==============================] - 0s 5ms/step - loss: 0.9155 - accuracy: 0.6662 - val_loss: 1.4857 - val_accuracy: 0.5750\n",
      "Epoch 6/100\n",
      "25/25 [==============================] - 0s 5ms/step - loss: 0.8965 - accuracy: 0.6637 - val_loss: 1.5527 - val_accuracy: 0.5850\n",
      "Epoch 7/100\n",
      "25/25 [==============================] - 0s 5ms/step - loss: 0.9038 - accuracy: 0.6900 - val_loss: 1.5672 - val_accuracy: 0.5800\n",
      "Epoch 8/100\n",
      "25/25 [==============================] - 0s 4ms/step - loss: 0.9833 - accuracy: 0.6413 - val_loss: 1.5629 - val_accuracy: 0.5800\n",
      "Epoch 9/100\n",
      "25/25 [==============================] - 0s 4ms/step - loss: 0.9026 - accuracy: 0.6862 - val_loss: 1.5852 - val_accuracy: 0.6150\n",
      "Epoch 10/100\n",
      "25/25 [==============================] - 0s 5ms/step - loss: 0.9021 - accuracy: 0.6687 - val_loss: 1.5641 - val_accuracy: 0.5900\n",
      "Epoch 11/100\n",
      "25/25 [==============================] - 0s 5ms/step - loss: 0.8633 - accuracy: 0.6762 - val_loss: 1.5891 - val_accuracy: 0.6000\n",
      "Epoch 12/100\n",
      "25/25 [==============================] - 0s 5ms/step - loss: 0.9389 - accuracy: 0.6650 - val_loss: 1.6128 - val_accuracy: 0.5700\n",
      "Epoch 13/100\n",
      "25/25 [==============================] - 0s 4ms/step - loss: 0.8891 - accuracy: 0.6675 - val_loss: 1.6250 - val_accuracy: 0.5950\n",
      "Epoch 14/100\n",
      "25/25 [==============================] - 0s 4ms/step - loss: 0.8480 - accuracy: 0.6862 - val_loss: 1.6022 - val_accuracy: 0.5900\n",
      "Epoch 15/100\n",
      "25/25 [==============================] - 0s 4ms/step - loss: 0.8893 - accuracy: 0.7025 - val_loss: 1.6001 - val_accuracy: 0.5900\n",
      "Epoch 16/100\n",
      "25/25 [==============================] - 0s 5ms/step - loss: 0.9218 - accuracy: 0.6587 - val_loss: 1.6261 - val_accuracy: 0.5950\n",
      "Epoch 17/100\n",
      "25/25 [==============================] - 0s 5ms/step - loss: 0.8801 - accuracy: 0.6662 - val_loss: 1.6626 - val_accuracy: 0.5950\n",
      "Epoch 18/100\n",
      "25/25 [==============================] - 0s 5ms/step - loss: 0.8922 - accuracy: 0.6850 - val_loss: 1.5589 - val_accuracy: 0.6150\n",
      "Epoch 19/100\n",
      "25/25 [==============================] - 0s 5ms/step - loss: 0.8984 - accuracy: 0.6762 - val_loss: 1.6878 - val_accuracy: 0.5750\n",
      "Epoch 20/100\n",
      "25/25 [==============================] - 0s 5ms/step - loss: 0.9061 - accuracy: 0.6938 - val_loss: 1.6332 - val_accuracy: 0.5900\n",
      "Epoch 21/100\n",
      "25/25 [==============================] - 0s 5ms/step - loss: 0.8884 - accuracy: 0.6787 - val_loss: 1.6021 - val_accuracy: 0.5900\n",
      "Epoch 22/100\n",
      "25/25 [==============================] - 0s 5ms/step - loss: 0.8891 - accuracy: 0.6875 - val_loss: 1.5926 - val_accuracy: 0.6050\n",
      "Epoch 23/100\n",
      "25/25 [==============================] - 0s 5ms/step - loss: 0.8842 - accuracy: 0.6787 - val_loss: 1.5628 - val_accuracy: 0.6250\n",
      "Epoch 24/100\n",
      "25/25 [==============================] - 0s 5ms/step - loss: 0.8856 - accuracy: 0.6837 - val_loss: 1.5762 - val_accuracy: 0.6000\n",
      "Epoch 25/100\n",
      "25/25 [==============================] - 0s 5ms/step - loss: 0.8864 - accuracy: 0.6900 - val_loss: 1.5884 - val_accuracy: 0.5950\n",
      "Epoch 26/100\n",
      "25/25 [==============================] - 0s 5ms/step - loss: 0.8906 - accuracy: 0.6787 - val_loss: 1.5734 - val_accuracy: 0.5750\n",
      "Epoch 27/100\n",
      "25/25 [==============================] - 0s 5ms/step - loss: 0.8656 - accuracy: 0.6750 - val_loss: 1.6319 - val_accuracy: 0.5850\n",
      "Epoch 28/100\n",
      "25/25 [==============================] - 0s 5ms/step - loss: 0.8655 - accuracy: 0.6700 - val_loss: 1.6378 - val_accuracy: 0.6000\n",
      "Epoch 29/100\n",
      "25/25 [==============================] - 0s 5ms/step - loss: 0.8914 - accuracy: 0.6925 - val_loss: 1.6498 - val_accuracy: 0.5750\n",
      "Epoch 30/100\n",
      "25/25 [==============================] - 0s 5ms/step - loss: 0.8790 - accuracy: 0.6900 - val_loss: 1.6595 - val_accuracy: 0.5700\n",
      "Epoch 31/100\n",
      "25/25 [==============================] - 0s 5ms/step - loss: 0.8921 - accuracy: 0.6762 - val_loss: 1.6768 - val_accuracy: 0.5950\n",
      "Epoch 32/100\n",
      "25/25 [==============================] - 0s 4ms/step - loss: 0.8171 - accuracy: 0.6950 - val_loss: 1.6163 - val_accuracy: 0.6100\n",
      "Epoch 33/100\n",
      "25/25 [==============================] - 0s 4ms/step - loss: 0.8751 - accuracy: 0.6825 - val_loss: 1.6810 - val_accuracy: 0.5750\n",
      "Epoch 34/100\n",
      "25/25 [==============================] - 0s 5ms/step - loss: 0.8580 - accuracy: 0.6850 - val_loss: 1.6877 - val_accuracy: 0.5500\n",
      "Epoch 35/100\n",
      "25/25 [==============================] - 0s 4ms/step - loss: 0.9247 - accuracy: 0.6925 - val_loss: 1.6629 - val_accuracy: 0.5950\n",
      "Epoch 36/100\n",
      "25/25 [==============================] - 0s 4ms/step - loss: 0.8779 - accuracy: 0.6775 - val_loss: 1.7130 - val_accuracy: 0.5800\n",
      "Epoch 37/100\n",
      "25/25 [==============================] - 0s 4ms/step - loss: 0.8762 - accuracy: 0.6963 - val_loss: 1.7122 - val_accuracy: 0.5800\n",
      "Epoch 38/100\n",
      "25/25 [==============================] - 0s 4ms/step - loss: 0.8887 - accuracy: 0.6913 - val_loss: 1.7397 - val_accuracy: 0.5750\n",
      "Epoch 39/100\n",
      "25/25 [==============================] - 0s 4ms/step - loss: 0.8220 - accuracy: 0.6988 - val_loss: 1.6529 - val_accuracy: 0.6100\n",
      "Epoch 40/100\n",
      "25/25 [==============================] - 0s 4ms/step - loss: 0.8452 - accuracy: 0.6938 - val_loss: 1.7061 - val_accuracy: 0.5950\n",
      "Epoch 41/100\n",
      "25/25 [==============================] - 0s 4ms/step - loss: 0.8420 - accuracy: 0.6975 - val_loss: 1.6499 - val_accuracy: 0.6150\n",
      "Epoch 42/100\n",
      "25/25 [==============================] - 0s 4ms/step - loss: 0.8306 - accuracy: 0.6988 - val_loss: 1.7020 - val_accuracy: 0.6200\n",
      "Epoch 43/100\n",
      "25/25 [==============================] - 0s 4ms/step - loss: 0.8235 - accuracy: 0.7038 - val_loss: 1.6475 - val_accuracy: 0.5950\n",
      "Epoch 44/100\n",
      "25/25 [==============================] - 0s 4ms/step - loss: 0.8704 - accuracy: 0.6925 - val_loss: 1.6951 - val_accuracy: 0.5500\n",
      "Epoch 45/100\n",
      "25/25 [==============================] - 0s 4ms/step - loss: 0.8368 - accuracy: 0.6900 - val_loss: 1.6899 - val_accuracy: 0.5950\n",
      "Epoch 46/100\n",
      "25/25 [==============================] - 0s 4ms/step - loss: 0.8240 - accuracy: 0.7013 - val_loss: 1.6283 - val_accuracy: 0.5800\n",
      "Epoch 47/100\n",
      "25/25 [==============================] - 0s 4ms/step - loss: 0.8212 - accuracy: 0.7075 - val_loss: 1.6712 - val_accuracy: 0.5750\n",
      "Epoch 48/100\n",
      "25/25 [==============================] - 0s 4ms/step - loss: 0.7829 - accuracy: 0.7113 - val_loss: 1.6350 - val_accuracy: 0.6000\n",
      "Epoch 49/100\n",
      "25/25 [==============================] - 0s 4ms/step - loss: 0.7873 - accuracy: 0.7225 - val_loss: 1.7079 - val_accuracy: 0.6200\n",
      "Epoch 50/100\n",
      "25/25 [==============================] - 0s 4ms/step - loss: 0.7462 - accuracy: 0.7275 - val_loss: 1.7852 - val_accuracy: 0.5650\n",
      "Epoch 51/100\n",
      "25/25 [==============================] - 0s 4ms/step - loss: 0.8883 - accuracy: 0.6925 - val_loss: 1.7318 - val_accuracy: 0.5750\n",
      "Epoch 52/100\n",
      "25/25 [==============================] - 0s 4ms/step - loss: 0.7838 - accuracy: 0.7237 - val_loss: 1.8162 - val_accuracy: 0.5900\n",
      "Epoch 53/100\n",
      "25/25 [==============================] - 0s 4ms/step - loss: 0.7813 - accuracy: 0.7237 - val_loss: 1.8508 - val_accuracy: 0.6050\n",
      "Epoch 54/100\n",
      "25/25 [==============================] - 0s 4ms/step - loss: 0.7727 - accuracy: 0.7088 - val_loss: 1.7913 - val_accuracy: 0.5750\n",
      "Epoch 55/100\n",
      "25/25 [==============================] - 0s 4ms/step - loss: 0.9113 - accuracy: 0.6800 - val_loss: 1.7105 - val_accuracy: 0.5850\n",
      "Epoch 56/100\n",
      "25/25 [==============================] - 0s 4ms/step - loss: 0.8310 - accuracy: 0.7088 - val_loss: 1.7186 - val_accuracy: 0.5750\n",
      "Epoch 57/100\n",
      "25/25 [==============================] - 0s 4ms/step - loss: 0.8266 - accuracy: 0.7138 - val_loss: 1.7123 - val_accuracy: 0.6100\n",
      "Epoch 58/100\n",
      "25/25 [==============================] - 0s 4ms/step - loss: 0.7772 - accuracy: 0.7250 - val_loss: 1.7677 - val_accuracy: 0.6000\n"
     ]
    },
    {
     "name": "stdout",
     "output_type": "stream",
     "text": [
      "Epoch 59/100\n",
      "25/25 [==============================] - 0s 4ms/step - loss: 0.8395 - accuracy: 0.6850 - val_loss: 1.7574 - val_accuracy: 0.5900\n",
      "Epoch 60/100\n",
      "25/25 [==============================] - 0s 4ms/step - loss: 0.8192 - accuracy: 0.6913 - val_loss: 1.7954 - val_accuracy: 0.5300\n",
      "Epoch 61/100\n",
      "25/25 [==============================] - 0s 4ms/step - loss: 0.8140 - accuracy: 0.7063 - val_loss: 1.7185 - val_accuracy: 0.6000\n",
      "Epoch 62/100\n",
      "25/25 [==============================] - 0s 4ms/step - loss: 0.7575 - accuracy: 0.7312 - val_loss: 1.8202 - val_accuracy: 0.5850\n",
      "Epoch 63/100\n",
      "25/25 [==============================] - 0s 4ms/step - loss: 0.7966 - accuracy: 0.7138 - val_loss: 1.7128 - val_accuracy: 0.6100\n",
      "Epoch 64/100\n",
      "25/25 [==============================] - 0s 4ms/step - loss: 0.8003 - accuracy: 0.7050 - val_loss: 1.8078 - val_accuracy: 0.5900\n",
      "Epoch 65/100\n",
      "25/25 [==============================] - 0s 4ms/step - loss: 0.7858 - accuracy: 0.7462 - val_loss: 1.7443 - val_accuracy: 0.5900\n",
      "Epoch 66/100\n",
      "25/25 [==============================] - 0s 4ms/step - loss: 0.7625 - accuracy: 0.7250 - val_loss: 1.7142 - val_accuracy: 0.6200\n",
      "Epoch 67/100\n",
      "25/25 [==============================] - 0s 4ms/step - loss: 0.7876 - accuracy: 0.6925 - val_loss: 1.7366 - val_accuracy: 0.5850\n",
      "Epoch 68/100\n",
      "25/25 [==============================] - 0s 4ms/step - loss: 0.7374 - accuracy: 0.7312 - val_loss: 1.7679 - val_accuracy: 0.6050\n",
      "Epoch 69/100\n",
      "25/25 [==============================] - 0s 4ms/step - loss: 0.7641 - accuracy: 0.7225 - val_loss: 1.7220 - val_accuracy: 0.6100\n",
      "Epoch 70/100\n",
      "25/25 [==============================] - 0s 4ms/step - loss: 0.7772 - accuracy: 0.7250 - val_loss: 1.7442 - val_accuracy: 0.6100\n",
      "Epoch 71/100\n",
      "25/25 [==============================] - 0s 4ms/step - loss: 0.7586 - accuracy: 0.7125 - val_loss: 1.8024 - val_accuracy: 0.6150\n",
      "Epoch 72/100\n",
      "25/25 [==============================] - 0s 4ms/step - loss: 0.8167 - accuracy: 0.7300 - val_loss: 1.8363 - val_accuracy: 0.6150\n",
      "Epoch 73/100\n",
      "25/25 [==============================] - 0s 5ms/step - loss: 0.7931 - accuracy: 0.7200 - val_loss: 1.8681 - val_accuracy: 0.5950\n",
      "Epoch 74/100\n",
      "25/25 [==============================] - 0s 4ms/step - loss: 0.7436 - accuracy: 0.7325 - val_loss: 1.8982 - val_accuracy: 0.6150\n",
      "Epoch 75/100\n",
      "25/25 [==============================] - 0s 4ms/step - loss: 0.8108 - accuracy: 0.7163 - val_loss: 1.7729 - val_accuracy: 0.6000\n",
      "Epoch 76/100\n",
      "25/25 [==============================] - 0s 4ms/step - loss: 0.7963 - accuracy: 0.7325 - val_loss: 1.8026 - val_accuracy: 0.5800\n",
      "Epoch 77/100\n",
      "25/25 [==============================] - 0s 4ms/step - loss: 0.7472 - accuracy: 0.7250 - val_loss: 1.8556 - val_accuracy: 0.5850\n",
      "Epoch 78/100\n",
      "25/25 [==============================] - 0s 4ms/step - loss: 0.7331 - accuracy: 0.7312 - val_loss: 1.8174 - val_accuracy: 0.5750\n",
      "Epoch 79/100\n",
      "25/25 [==============================] - 0s 4ms/step - loss: 0.8157 - accuracy: 0.6950 - val_loss: 1.8258 - val_accuracy: 0.6000\n",
      "Epoch 80/100\n",
      "25/25 [==============================] - 0s 4ms/step - loss: 0.7530 - accuracy: 0.7362 - val_loss: 1.8291 - val_accuracy: 0.5900\n",
      "Epoch 81/100\n",
      "25/25 [==============================] - 0s 4ms/step - loss: 0.8029 - accuracy: 0.7237 - val_loss: 1.7669 - val_accuracy: 0.5950\n",
      "Epoch 82/100\n",
      "25/25 [==============================] - 0s 4ms/step - loss: 0.7913 - accuracy: 0.7175 - val_loss: 1.6826 - val_accuracy: 0.5950\n",
      "Epoch 83/100\n",
      "25/25 [==============================] - 0s 4ms/step - loss: 0.7783 - accuracy: 0.7237 - val_loss: 1.7987 - val_accuracy: 0.5950\n",
      "Epoch 84/100\n",
      "25/25 [==============================] - 0s 5ms/step - loss: 0.8134 - accuracy: 0.7200 - val_loss: 1.8435 - val_accuracy: 0.5750\n",
      "Epoch 85/100\n",
      "25/25 [==============================] - 0s 5ms/step - loss: 0.7656 - accuracy: 0.7237 - val_loss: 1.8318 - val_accuracy: 0.5850\n",
      "Epoch 86/100\n",
      "25/25 [==============================] - 0s 4ms/step - loss: 0.7398 - accuracy: 0.7250 - val_loss: 1.8166 - val_accuracy: 0.6050\n",
      "Epoch 87/100\n",
      "25/25 [==============================] - 0s 4ms/step - loss: 0.7674 - accuracy: 0.7325 - val_loss: 1.7987 - val_accuracy: 0.5550\n",
      "Epoch 88/100\n",
      "25/25 [==============================] - 0s 4ms/step - loss: 0.7753 - accuracy: 0.7500 - val_loss: 1.8506 - val_accuracy: 0.5800\n",
      "Epoch 89/100\n",
      "25/25 [==============================] - 0s 4ms/step - loss: 0.7730 - accuracy: 0.7225 - val_loss: 1.8854 - val_accuracy: 0.5550\n",
      "Epoch 90/100\n",
      "25/25 [==============================] - 0s 5ms/step - loss: 0.7509 - accuracy: 0.7150 - val_loss: 1.8896 - val_accuracy: 0.5700\n",
      "Epoch 91/100\n",
      "25/25 [==============================] - 0s 5ms/step - loss: 0.7641 - accuracy: 0.7250 - val_loss: 1.8394 - val_accuracy: 0.5950\n",
      "Epoch 92/100\n",
      "25/25 [==============================] - 0s 5ms/step - loss: 0.7489 - accuracy: 0.7325 - val_loss: 1.9127 - val_accuracy: 0.6050\n",
      "Epoch 93/100\n",
      "25/25 [==============================] - 0s 5ms/step - loss: 0.7817 - accuracy: 0.7138 - val_loss: 1.9035 - val_accuracy: 0.5800\n",
      "Epoch 94/100\n",
      "25/25 [==============================] - 0s 4ms/step - loss: 0.7466 - accuracy: 0.7337 - val_loss: 1.8686 - val_accuracy: 0.5850\n",
      "Epoch 95/100\n",
      "25/25 [==============================] - 0s 5ms/step - loss: 0.7502 - accuracy: 0.7513 - val_loss: 1.7851 - val_accuracy: 0.5950\n",
      "Epoch 96/100\n",
      "25/25 [==============================] - 0s 4ms/step - loss: 0.7399 - accuracy: 0.7275 - val_loss: 1.7910 - val_accuracy: 0.5950\n",
      "Epoch 97/100\n",
      "25/25 [==============================] - 0s 5ms/step - loss: 0.7544 - accuracy: 0.7237 - val_loss: 1.7045 - val_accuracy: 0.5950\n",
      "Epoch 98/100\n",
      "25/25 [==============================] - 0s 5ms/step - loss: 0.7634 - accuracy: 0.7350 - val_loss: 1.7896 - val_accuracy: 0.5900\n",
      "Epoch 99/100\n",
      "25/25 [==============================] - 0s 4ms/step - loss: 0.7717 - accuracy: 0.7312 - val_loss: 1.8613 - val_accuracy: 0.5800\n",
      "Epoch 100/100\n",
      "25/25 [==============================] - 0s 5ms/step - loss: 0.7724 - accuracy: 0.7212 - val_loss: 1.9122 - val_accuracy: 0.6100\n",
      "Training completed in time:  0:00:11.144198\n"
     ]
    }
   ],
   "source": [
    "\n",
    "from tensorflow.keras.callbacks import ModelCheckpoint\n",
    "from datetime import datetime\n",
    "\n",
    "\n",
    "num_epochs = 100\n",
    "num_batch_size = 32\n",
    "#checkpointer = ModelCheckpoint(filepath='save_models\\audio_classification.hdf5', verbose=1 , save_best_only=True)\n",
    "start= datetime.now()\n",
    "model.fit(X_train, y_train, batch_size=num_batch_size, epochs=num_epochs, validation_data=(X_test, y_test) )\n",
    "\n",
    "duration= datetime.now()-start\n",
    "print(\"Training completed in time: \", duration)\n"
   ]
  },
  {
   "cell_type": "code",
   "execution_count": 69,
   "id": "f2cb1eb9",
   "metadata": {},
   "outputs": [
    {
     "name": "stdout",
     "output_type": "stream",
     "text": [
      "0.6100000143051147\n"
     ]
    }
   ],
   "source": [
    "test_accuracy=  model.evaluate(X_test, y_test, verbose=0)\n",
    "print(test_accuracy[1])"
   ]
  },
  {
   "cell_type": "code",
   "execution_count": null,
   "id": "c53020e3",
   "metadata": {},
   "outputs": [],
   "source": []
  },
  {
   "cell_type": "code",
   "execution_count": null,
   "id": "2fed216f",
   "metadata": {},
   "outputs": [],
   "source": []
  }
 ],
 "metadata": {
  "kernelspec": {
   "display_name": "Python 3",
   "language": "python",
   "name": "python3"
  },
  "language_info": {
   "codemirror_mode": {
    "name": "ipython",
    "version": 3
   },
   "file_extension": ".py",
   "mimetype": "text/x-python",
   "name": "python",
   "nbconvert_exporter": "python",
   "pygments_lexer": "ipython3",
   "version": "3.7.9"
  }
 },
 "nbformat": 4,
 "nbformat_minor": 5
}
